{
 "cells": [
  {
   "cell_type": "markdown",
   "id": "c0078428",
   "metadata": {},
   "source": [
    "# Python Project: Analysis of NFL Football Games"
   ]
  },
  {
   "cell_type": "markdown",
   "id": "ae6c338c",
   "metadata": {},
   "source": [
    "## Summary\n",
    "#### This project will run exploratory data analysis on NFL football games using pandas, scikit-learn, matplotlib, and seaborn. Then three models will be created to predict which football team will win based on 49 predictors. The data is scraped from from Pro Football Reference (https://www.pro-football-reference.com/years/) and contains every game from the 2013 season till the 2021 season (9 seasons with 2286 games). Each columns represents the team's average for the season. For example, 'points' is the average amount of points a team get per game and 'oppPoints' is the oppossing team's points per game."
   ]
  },
  {
   "cell_type": "markdown",
   "id": "a64ea3a2",
   "metadata": {},
   "source": [
    "### Question\n",
    "#### Which statistics of an NFL football game make the biggest difference in determining the winner?\n",
    "\n",
    "### Hypothesis\n",
    "#### Passing yards will be the most significant predictor in determing the winner of the football game"
   ]
  },
  {
   "cell_type": "markdown",
   "id": "c7a41af1",
   "metadata": {},
   "source": [
    "### Import Dependencies"
   ]
  },
  {
   "cell_type": "code",
   "execution_count": 1,
   "id": "61b104fb",
   "metadata": {},
   "outputs": [],
   "source": [
    "import pandas as pd\n",
    "import numpy as np\n",
    "import seaborn as sns\n",
    "import matplotlib.pyplot as plt\n",
    "from sklearn.model_selection import train_test_split\n",
    "from sklearn.linear_model import LogisticRegression\n",
    "from sklearn.ensemble import RandomForestClassifier\n",
    "from sklearn.svm import SVC\n",
    "from sklearn.preprocessing import scale\n",
    "from sklearn.metrics import confusion_matrix, accuracy_score\n",
    "from sklearn import metrics\n",
    "import pickle"
   ]
  },
  {
   "cell_type": "markdown",
   "id": "a3f34520",
   "metadata": {},
   "source": [
    "### Read in data and clean it for our models"
   ]
  },
  {
   "cell_type": "code",
   "execution_count": 2,
   "id": "da021c1a",
   "metadata": {
    "scrolled": false
   },
   "outputs": [
    {
     "data": {
      "text/html": [
       "<div>\n",
       "<style scoped>\n",
       "    .dataframe tbody tr th:only-of-type {\n",
       "        vertical-align: middle;\n",
       "    }\n",
       "\n",
       "    .dataframe tbody tr th {\n",
       "        vertical-align: top;\n",
       "    }\n",
       "\n",
       "    .dataframe thead th {\n",
       "        text-align: right;\n",
       "    }\n",
       "</style>\n",
       "<table border=\"1\" class=\"dataframe\">\n",
       "  <thead>\n",
       "    <tr style=\"text-align: right;\">\n",
       "      <th></th>\n",
       "      <th>season</th>\n",
       "      <th>team</th>\n",
       "      <th>date</th>\n",
       "      <th>time</th>\n",
       "      <th>roof</th>\n",
       "      <th>surface</th>\n",
       "      <th>attendance</th>\n",
       "      <th>temp(f)</th>\n",
       "      <th>humidity (%)</th>\n",
       "      <th>wind(mph)</th>\n",
       "      <th>...</th>\n",
       "      <th>oppPassAtt</th>\n",
       "      <th>oppCmp%</th>\n",
       "      <th>oppPassYds</th>\n",
       "      <th>oppPassTDs</th>\n",
       "      <th>oppPassINTs</th>\n",
       "      <th>oppSacks</th>\n",
       "      <th>oppAllowedSacks</th>\n",
       "      <th>oppFumbleRec</th>\n",
       "      <th>oppPenalties</th>\n",
       "      <th>win</th>\n",
       "    </tr>\n",
       "  </thead>\n",
       "  <tbody>\n",
       "    <tr>\n",
       "      <th>0</th>\n",
       "      <td>2021</td>\n",
       "      <td>DAL</td>\n",
       "      <td>2021-09-09</td>\n",
       "      <td>08:20:00</td>\n",
       "      <td>outdoors</td>\n",
       "      <td>grass</td>\n",
       "      <td>65566.0</td>\n",
       "      <td>82.0</td>\n",
       "      <td>85.0</td>\n",
       "      <td>9.0</td>\n",
       "      <td>...</td>\n",
       "      <td>43.26</td>\n",
       "      <td>67.12</td>\n",
       "      <td>314.89</td>\n",
       "      <td>2.42</td>\n",
       "      <td>0.68</td>\n",
       "      <td>2.68</td>\n",
       "      <td>1.58</td>\n",
       "      <td>0.89</td>\n",
       "      <td>5.53</td>\n",
       "      <td>False</td>\n",
       "    </tr>\n",
       "    <tr>\n",
       "      <th>1</th>\n",
       "      <td>2021</td>\n",
       "      <td>TAM</td>\n",
       "      <td>2021-09-09</td>\n",
       "      <td>08:20:00</td>\n",
       "      <td>outdoors</td>\n",
       "      <td>grass</td>\n",
       "      <td>65566.0</td>\n",
       "      <td>82.0</td>\n",
       "      <td>85.0</td>\n",
       "      <td>9.0</td>\n",
       "      <td>...</td>\n",
       "      <td>37.65</td>\n",
       "      <td>68.26</td>\n",
       "      <td>281.65</td>\n",
       "      <td>2.24</td>\n",
       "      <td>0.65</td>\n",
       "      <td>2.29</td>\n",
       "      <td>2.24</td>\n",
       "      <td>0.41</td>\n",
       "      <td>7.59</td>\n",
       "      <td>True</td>\n",
       "    </tr>\n",
       "    <tr>\n",
       "      <th>2</th>\n",
       "      <td>2021</td>\n",
       "      <td>ARI</td>\n",
       "      <td>2021-09-12</td>\n",
       "      <td>01:00:00</td>\n",
       "      <td>outdoors</td>\n",
       "      <td>grass</td>\n",
       "      <td>67216.0</td>\n",
       "      <td>82.0</td>\n",
       "      <td>55.0</td>\n",
       "      <td>8.0</td>\n",
       "      <td>...</td>\n",
       "      <td>29.38</td>\n",
       "      <td>67.28</td>\n",
       "      <td>207.50</td>\n",
       "      <td>1.38</td>\n",
       "      <td>1.06</td>\n",
       "      <td>3.00</td>\n",
       "      <td>2.38</td>\n",
       "      <td>0.38</td>\n",
       "      <td>5.75</td>\n",
       "      <td>True</td>\n",
       "    </tr>\n",
       "    <tr>\n",
       "      <th>3</th>\n",
       "      <td>2021</td>\n",
       "      <td>ATL</td>\n",
       "      <td>2021-09-12</td>\n",
       "      <td>01:00:00</td>\n",
       "      <td>outdoors</td>\n",
       "      <td>turf</td>\n",
       "      <td>68633.0</td>\n",
       "      <td>NaN</td>\n",
       "      <td>NaN</td>\n",
       "      <td>NaN</td>\n",
       "      <td>...</td>\n",
       "      <td>29.83</td>\n",
       "      <td>61.78</td>\n",
       "      <td>213.50</td>\n",
       "      <td>1.17</td>\n",
       "      <td>0.67</td>\n",
       "      <td>1.83</td>\n",
       "      <td>1.83</td>\n",
       "      <td>0.22</td>\n",
       "      <td>6.17</td>\n",
       "      <td>False</td>\n",
       "    </tr>\n",
       "    <tr>\n",
       "      <th>4</th>\n",
       "      <td>2021</td>\n",
       "      <td>BUF</td>\n",
       "      <td>2021-09-12</td>\n",
       "      <td>01:00:00</td>\n",
       "      <td>outdoors</td>\n",
       "      <td>turf</td>\n",
       "      <td>69787.0</td>\n",
       "      <td>73.0</td>\n",
       "      <td>79.0</td>\n",
       "      <td>17.0</td>\n",
       "      <td>...</td>\n",
       "      <td>38.27</td>\n",
       "      <td>63.62</td>\n",
       "      <td>234.47</td>\n",
       "      <td>1.47</td>\n",
       "      <td>0.60</td>\n",
       "      <td>3.07</td>\n",
       "      <td>2.53</td>\n",
       "      <td>0.53</td>\n",
       "      <td>6.13</td>\n",
       "      <td>False</td>\n",
       "    </tr>\n",
       "  </tbody>\n",
       "</table>\n",
       "<p>5 rows × 62 columns</p>\n",
       "</div>"
      ],
      "text/plain": [
       "   season team        date      time      roof surface  attendance  temp(f)  \\\n",
       "0    2021  DAL  2021-09-09  08:20:00  outdoors   grass     65566.0     82.0   \n",
       "1    2021  TAM  2021-09-09  08:20:00  outdoors   grass     65566.0     82.0   \n",
       "2    2021  ARI  2021-09-12  01:00:00  outdoors   grass     67216.0     82.0   \n",
       "3    2021  ATL  2021-09-12  01:00:00  outdoors    turf     68633.0      NaN   \n",
       "4    2021  BUF  2021-09-12  01:00:00  outdoors    turf     69787.0     73.0   \n",
       "\n",
       "   humidity (%)  wind(mph)  ...  oppPassAtt  oppCmp%  oppPassYds  oppPassTDs  \\\n",
       "0          85.0        9.0  ...       43.26    67.12      314.89        2.42   \n",
       "1          85.0        9.0  ...       37.65    68.26      281.65        2.24   \n",
       "2          55.0        8.0  ...       29.38    67.28      207.50        1.38   \n",
       "3           NaN        NaN  ...       29.83    61.78      213.50        1.17   \n",
       "4          79.0       17.0  ...       38.27    63.62      234.47        1.47   \n",
       "\n",
       "   oppPassINTs  oppSacks  oppAllowedSacks  oppFumbleRec  oppPenalties    win  \n",
       "0         0.68      2.68             1.58          0.89          5.53  False  \n",
       "1         0.65      2.29             2.24          0.41          7.59   True  \n",
       "2         1.06      3.00             2.38          0.38          5.75   True  \n",
       "3         0.67      1.83             1.83          0.22          6.17  False  \n",
       "4         0.60      3.07             2.53          0.53          6.13  False  \n",
       "\n",
       "[5 rows x 62 columns]"
      ]
     },
     "execution_count": 2,
     "metadata": {},
     "output_type": "execute_result"
    }
   ],
   "source": [
    "data = pd.read_csv('nflData.csv')\n",
    "data.head()"
   ]
  },
  {
   "cell_type": "code",
   "execution_count": 3,
   "id": "65b82b70",
   "metadata": {},
   "outputs": [
    {
     "data": {
      "text/plain": [
       "(4572, 62)"
      ]
     },
     "execution_count": 3,
     "metadata": {},
     "output_type": "execute_result"
    }
   ],
   "source": [
    "data.shape"
   ]
  },
  {
   "cell_type": "code",
   "execution_count": 4,
   "id": "4633238e",
   "metadata": {},
   "outputs": [],
   "source": [
    "# Rename columns\n",
    "modelData = data.rename(columns={'possessionTime(sec)':'possessionTime',\n",
    "                                      'oppPossessionTime(sec)':'oppPossessionTime'})"
   ]
  },
  {
   "cell_type": "markdown",
   "id": "85cc69ae",
   "metadata": {},
   "source": [
    "### Remove columns not used for analysis"
   ]
  },
  {
   "cell_type": "code",
   "execution_count": 5,
   "id": "9133c7a9",
   "metadata": {},
   "outputs": [],
   "source": [
    "modelData = modelData.drop(columns=['season','date','time','roof','surface','attendance','temp(f)','humidity (%)',\n",
    "                               'wind(mph)','team','opponent','predictedToWin'])"
   ]
  },
  {
   "cell_type": "code",
   "execution_count": 6,
   "id": "316bd856",
   "metadata": {},
   "outputs": [
    {
     "data": {
      "text/plain": [
       "(4572, 50)"
      ]
     },
     "execution_count": 6,
     "metadata": {},
     "output_type": "execute_result"
    }
   ],
   "source": [
    "modelData.shape"
   ]
  },
  {
   "cell_type": "code",
   "execution_count": 7,
   "id": "f3475237",
   "metadata": {},
   "outputs": [
    {
     "data": {
      "text/html": [
       "<div>\n",
       "<style scoped>\n",
       "    .dataframe tbody tr th:only-of-type {\n",
       "        vertical-align: middle;\n",
       "    }\n",
       "\n",
       "    .dataframe tbody tr th {\n",
       "        vertical-align: top;\n",
       "    }\n",
       "\n",
       "    .dataframe thead th {\n",
       "        text-align: right;\n",
       "    }\n",
       "</style>\n",
       "<table border=\"1\" class=\"dataframe\">\n",
       "  <thead>\n",
       "    <tr style=\"text-align: right;\">\n",
       "      <th></th>\n",
       "      <th>wins</th>\n",
       "      <th>losses</th>\n",
       "      <th>points</th>\n",
       "      <th>pointsGivenUp</th>\n",
       "      <th>possessionTime</th>\n",
       "      <th>firstDowns</th>\n",
       "      <th>3rdDownConv%</th>\n",
       "      <th>4thDownAtt</th>\n",
       "      <th>4thDownConv%</th>\n",
       "      <th>yards</th>\n",
       "      <th>...</th>\n",
       "      <th>oppRushTDs</th>\n",
       "      <th>oppPassAtt</th>\n",
       "      <th>oppCmp%</th>\n",
       "      <th>oppPassYds</th>\n",
       "      <th>oppPassTDs</th>\n",
       "      <th>oppPassINTs</th>\n",
       "      <th>oppSacks</th>\n",
       "      <th>oppAllowedSacks</th>\n",
       "      <th>oppFumbleRec</th>\n",
       "      <th>oppPenalties</th>\n",
       "    </tr>\n",
       "  </thead>\n",
       "  <tbody>\n",
       "    <tr>\n",
       "      <th>count</th>\n",
       "      <td>4572.000000</td>\n",
       "      <td>4570.000000</td>\n",
       "      <td>4572.000000</td>\n",
       "      <td>4572.000000</td>\n",
       "      <td>4572.000000</td>\n",
       "      <td>4572.000000</td>\n",
       "      <td>4572.000000</td>\n",
       "      <td>4572.000000</td>\n",
       "      <td>4572.000000</td>\n",
       "      <td>4572.000000</td>\n",
       "      <td>...</td>\n",
       "      <td>4572.000000</td>\n",
       "      <td>4572.000000</td>\n",
       "      <td>4572.000000</td>\n",
       "      <td>4572.000000</td>\n",
       "      <td>4572.000000</td>\n",
       "      <td>4572.000000</td>\n",
       "      <td>4572.000000</td>\n",
       "      <td>4572.000000</td>\n",
       "      <td>4572.00000</td>\n",
       "      <td>4572.000000</td>\n",
       "    </tr>\n",
       "    <tr>\n",
       "      <th>mean</th>\n",
       "      <td>4.090551</td>\n",
       "      <td>3.790372</td>\n",
       "      <td>22.884554</td>\n",
       "      <td>22.884862</td>\n",
       "      <td>1804.926509</td>\n",
       "      <td>20.147165</td>\n",
       "      <td>39.019751</td>\n",
       "      <td>1.070376</td>\n",
       "      <td>50.002863</td>\n",
       "      <td>346.791343</td>\n",
       "      <td>...</td>\n",
       "      <td>0.838806</td>\n",
       "      <td>34.888795</td>\n",
       "      <td>63.466951</td>\n",
       "      <td>250.829033</td>\n",
       "      <td>1.573222</td>\n",
       "      <td>0.841853</td>\n",
       "      <td>2.347332</td>\n",
       "      <td>2.347108</td>\n",
       "      <td>0.55631</td>\n",
       "      <td>6.385328</td>\n",
       "    </tr>\n",
       "    <tr>\n",
       "      <th>std</th>\n",
       "      <td>3.332008</td>\n",
       "      <td>2.914300</td>\n",
       "      <td>4.341533</td>\n",
       "      <td>3.435122</td>\n",
       "      <td>87.439507</td>\n",
       "      <td>2.175445</td>\n",
       "      <td>4.758251</td>\n",
       "      <td>0.372570</td>\n",
       "      <td>15.597831</td>\n",
       "      <td>35.757124</td>\n",
       "      <td>...</td>\n",
       "      <td>0.306357</td>\n",
       "      <td>3.636498</td>\n",
       "      <td>3.913462</td>\n",
       "      <td>33.319455</td>\n",
       "      <td>0.467404</td>\n",
       "      <td>0.294633</td>\n",
       "      <td>0.493558</td>\n",
       "      <td>0.648491</td>\n",
       "      <td>0.19078</td>\n",
       "      <td>0.938845</td>\n",
       "    </tr>\n",
       "    <tr>\n",
       "      <th>min</th>\n",
       "      <td>0.000000</td>\n",
       "      <td>0.000000</td>\n",
       "      <td>13.710000</td>\n",
       "      <td>14.060000</td>\n",
       "      <td>1531.000000</td>\n",
       "      <td>14.430000</td>\n",
       "      <td>26.300000</td>\n",
       "      <td>0.240000</td>\n",
       "      <td>6.250000</td>\n",
       "      <td>241.560000</td>\n",
       "      <td>...</td>\n",
       "      <td>0.190000</td>\n",
       "      <td>25.710000</td>\n",
       "      <td>53.590000</td>\n",
       "      <td>180.250000</td>\n",
       "      <td>0.710000</td>\n",
       "      <td>0.220000</td>\n",
       "      <td>0.730000</td>\n",
       "      <td>0.820000</td>\n",
       "      <td>0.07000</td>\n",
       "      <td>3.860000</td>\n",
       "    </tr>\n",
       "    <tr>\n",
       "      <th>25%</th>\n",
       "      <td>1.000000</td>\n",
       "      <td>1.000000</td>\n",
       "      <td>19.710000</td>\n",
       "      <td>20.390000</td>\n",
       "      <td>1749.000000</td>\n",
       "      <td>18.620000</td>\n",
       "      <td>35.817500</td>\n",
       "      <td>0.810000</td>\n",
       "      <td>40.280000</td>\n",
       "      <td>320.000000</td>\n",
       "      <td>...</td>\n",
       "      <td>0.620000</td>\n",
       "      <td>32.252500</td>\n",
       "      <td>60.632500</td>\n",
       "      <td>225.870000</td>\n",
       "      <td>1.240000</td>\n",
       "      <td>0.620000</td>\n",
       "      <td>2.000000</td>\n",
       "      <td>1.880000</td>\n",
       "      <td>0.41000</td>\n",
       "      <td>5.800000</td>\n",
       "    </tr>\n",
       "    <tr>\n",
       "      <th>50%</th>\n",
       "      <td>3.000000</td>\n",
       "      <td>3.000000</td>\n",
       "      <td>22.600000</td>\n",
       "      <td>22.750000</td>\n",
       "      <td>1816.000000</td>\n",
       "      <td>20.110000</td>\n",
       "      <td>38.420000</td>\n",
       "      <td>1.000000</td>\n",
       "      <td>49.520000</td>\n",
       "      <td>347.250000</td>\n",
       "      <td>...</td>\n",
       "      <td>0.810000</td>\n",
       "      <td>35.000000</td>\n",
       "      <td>63.605000</td>\n",
       "      <td>249.560000</td>\n",
       "      <td>1.530000</td>\n",
       "      <td>0.820000</td>\n",
       "      <td>2.330000</td>\n",
       "      <td>2.310000</td>\n",
       "      <td>0.56000</td>\n",
       "      <td>6.440000</td>\n",
       "    </tr>\n",
       "    <tr>\n",
       "      <th>75%</th>\n",
       "      <td>6.000000</td>\n",
       "      <td>6.000000</td>\n",
       "      <td>25.880000</td>\n",
       "      <td>25.280000</td>\n",
       "      <td>1864.000000</td>\n",
       "      <td>21.680000</td>\n",
       "      <td>42.510000</td>\n",
       "      <td>1.250000</td>\n",
       "      <td>61.110000</td>\n",
       "      <td>372.950000</td>\n",
       "      <td>...</td>\n",
       "      <td>1.000000</td>\n",
       "      <td>37.530000</td>\n",
       "      <td>66.320000</td>\n",
       "      <td>274.940000</td>\n",
       "      <td>1.870000</td>\n",
       "      <td>1.000000</td>\n",
       "      <td>2.680000</td>\n",
       "      <td>2.860000</td>\n",
       "      <td>0.67000</td>\n",
       "      <td>7.060000</td>\n",
       "    </tr>\n",
       "    <tr>\n",
       "      <th>max</th>\n",
       "      <td>16.000000</td>\n",
       "      <td>15.000000</td>\n",
       "      <td>36.760000</td>\n",
       "      <td>30.600000</td>\n",
       "      <td>2061.000000</td>\n",
       "      <td>27.060000</td>\n",
       "      <td>51.850000</td>\n",
       "      <td>2.440000</td>\n",
       "      <td>94.440000</td>\n",
       "      <td>457.350000</td>\n",
       "      <td>...</td>\n",
       "      <td>1.870000</td>\n",
       "      <td>43.360000</td>\n",
       "      <td>72.580000</td>\n",
       "      <td>356.000000</td>\n",
       "      <td>3.350000</td>\n",
       "      <td>2.000000</td>\n",
       "      <td>3.600000</td>\n",
       "      <td>4.440000</td>\n",
       "      <td>1.20000</td>\n",
       "      <td>9.250000</td>\n",
       "    </tr>\n",
       "  </tbody>\n",
       "</table>\n",
       "<p>8 rows × 48 columns</p>\n",
       "</div>"
      ],
      "text/plain": [
       "              wins       losses       points  pointsGivenUp  possessionTime  \\\n",
       "count  4572.000000  4570.000000  4572.000000    4572.000000     4572.000000   \n",
       "mean      4.090551     3.790372    22.884554      22.884862     1804.926509   \n",
       "std       3.332008     2.914300     4.341533       3.435122       87.439507   \n",
       "min       0.000000     0.000000    13.710000      14.060000     1531.000000   \n",
       "25%       1.000000     1.000000    19.710000      20.390000     1749.000000   \n",
       "50%       3.000000     3.000000    22.600000      22.750000     1816.000000   \n",
       "75%       6.000000     6.000000    25.880000      25.280000     1864.000000   \n",
       "max      16.000000    15.000000    36.760000      30.600000     2061.000000   \n",
       "\n",
       "        firstDowns  3rdDownConv%   4thDownAtt  4thDownConv%        yards  ...  \\\n",
       "count  4572.000000   4572.000000  4572.000000   4572.000000  4572.000000  ...   \n",
       "mean     20.147165     39.019751     1.070376     50.002863   346.791343  ...   \n",
       "std       2.175445      4.758251     0.372570     15.597831    35.757124  ...   \n",
       "min      14.430000     26.300000     0.240000      6.250000   241.560000  ...   \n",
       "25%      18.620000     35.817500     0.810000     40.280000   320.000000  ...   \n",
       "50%      20.110000     38.420000     1.000000     49.520000   347.250000  ...   \n",
       "75%      21.680000     42.510000     1.250000     61.110000   372.950000  ...   \n",
       "max      27.060000     51.850000     2.440000     94.440000   457.350000  ...   \n",
       "\n",
       "        oppRushTDs   oppPassAtt      oppCmp%   oppPassYds   oppPassTDs  \\\n",
       "count  4572.000000  4572.000000  4572.000000  4572.000000  4572.000000   \n",
       "mean      0.838806    34.888795    63.466951   250.829033     1.573222   \n",
       "std       0.306357     3.636498     3.913462    33.319455     0.467404   \n",
       "min       0.190000    25.710000    53.590000   180.250000     0.710000   \n",
       "25%       0.620000    32.252500    60.632500   225.870000     1.240000   \n",
       "50%       0.810000    35.000000    63.605000   249.560000     1.530000   \n",
       "75%       1.000000    37.530000    66.320000   274.940000     1.870000   \n",
       "max       1.870000    43.360000    72.580000   356.000000     3.350000   \n",
       "\n",
       "       oppPassINTs     oppSacks  oppAllowedSacks  oppFumbleRec  oppPenalties  \n",
       "count  4572.000000  4572.000000      4572.000000    4572.00000   4572.000000  \n",
       "mean      0.841853     2.347332         2.347108       0.55631      6.385328  \n",
       "std       0.294633     0.493558         0.648491       0.19078      0.938845  \n",
       "min       0.220000     0.730000         0.820000       0.07000      3.860000  \n",
       "25%       0.620000     2.000000         1.880000       0.41000      5.800000  \n",
       "50%       0.820000     2.330000         2.310000       0.56000      6.440000  \n",
       "75%       1.000000     2.680000         2.860000       0.67000      7.060000  \n",
       "max       2.000000     3.600000         4.440000       1.20000      9.250000  \n",
       "\n",
       "[8 rows x 48 columns]"
      ]
     },
     "execution_count": 7,
     "metadata": {},
     "output_type": "execute_result"
    }
   ],
   "source": [
    "modelData.describe()"
   ]
  },
  {
   "cell_type": "markdown",
   "id": "75d24755",
   "metadata": {},
   "source": [
    "<a id='here'></a>\n",
    "### Remove least important variables based off coefficient calculations"
   ]
  },
  {
   "cell_type": "code",
   "execution_count": 8,
   "id": "4d072d2b",
   "metadata": {},
   "outputs": [],
   "source": [
    "#modelData = modelData.drop(columns=['turnovers','oppTurnovers','sacks','oppSacks'])\n",
    "\n",
    "## Remove the pound signs and this line once you reach cell 27"
   ]
  },
  {
   "cell_type": "markdown",
   "id": "2f3ada97",
   "metadata": {},
   "source": [
    "### Check for null values"
   ]
  },
  {
   "cell_type": "code",
   "execution_count": 9,
   "id": "128b83fe",
   "metadata": {
    "scrolled": true
   },
   "outputs": [
    {
     "data": {
      "text/plain": [
       "home                 0\n",
       "wins                 0\n",
       "losses               2\n",
       "points               0\n",
       "pointsGivenUp        0\n",
       "possessionTime       0\n",
       "firstDowns           0\n",
       "3rdDownConv%         0\n",
       "4thDownAtt           0\n",
       "4thDownConv%         0\n",
       "yards                0\n",
       "yardsGivenUp         0\n",
       "turnovers            0\n",
       "rushAtt              0\n",
       "rushYds              0\n",
       "rushTDs              0\n",
       "passAtt              0\n",
       "cmp%                 0\n",
       "passYds              0\n",
       "passTDs              0\n",
       "passINTs             0\n",
       "sacks                0\n",
       "allowedSacks         0\n",
       "fumbleRec            0\n",
       "penalties            0\n",
       "oppWins              4\n",
       "oppLosses            0\n",
       "oppPoints            0\n",
       "oppPointsGivenUp     0\n",
       "oppPossessionTime    0\n",
       "oppFirstDowns        0\n",
       "opp3rdDownConv%      0\n",
       "opp4thDownAtt        0\n",
       "opp4thDownConv%      0\n",
       "oppYards             0\n",
       "oppYardsGivenUp      0\n",
       "oppTurnovers         0\n",
       "oppRushAtt           0\n",
       "oppRushYds           0\n",
       "oppRushTDs           0\n",
       "oppPassAtt           0\n",
       "oppCmp%              0\n",
       "oppPassYds           0\n",
       "oppPassTDs           0\n",
       "oppPassINTs          0\n",
       "oppSacks             0\n",
       "oppAllowedSacks      0\n",
       "oppFumbleRec         0\n",
       "oppPenalties         0\n",
       "win                  0\n",
       "dtype: int64"
      ]
     },
     "execution_count": 9,
     "metadata": {},
     "output_type": "execute_result"
    }
   ],
   "source": [
    "modelData.isnull().sum()"
   ]
  },
  {
   "cell_type": "code",
   "execution_count": 10,
   "id": "0765a4e0",
   "metadata": {},
   "outputs": [],
   "source": [
    "modelData.dropna(subset=['oppWins'],inplace=True)"
   ]
  },
  {
   "cell_type": "code",
   "execution_count": 11,
   "id": "20ac11df",
   "metadata": {},
   "outputs": [
    {
     "data": {
      "text/plain": [
       "home                 0\n",
       "wins                 0\n",
       "losses               0\n",
       "points               0\n",
       "pointsGivenUp        0\n",
       "possessionTime       0\n",
       "firstDowns           0\n",
       "3rdDownConv%         0\n",
       "4thDownAtt           0\n",
       "4thDownConv%         0\n",
       "yards                0\n",
       "yardsGivenUp         0\n",
       "turnovers            0\n",
       "rushAtt              0\n",
       "rushYds              0\n",
       "rushTDs              0\n",
       "passAtt              0\n",
       "cmp%                 0\n",
       "passYds              0\n",
       "passTDs              0\n",
       "passINTs             0\n",
       "sacks                0\n",
       "allowedSacks         0\n",
       "fumbleRec            0\n",
       "penalties            0\n",
       "oppWins              0\n",
       "oppLosses            0\n",
       "oppPoints            0\n",
       "oppPointsGivenUp     0\n",
       "oppPossessionTime    0\n",
       "oppFirstDowns        0\n",
       "opp3rdDownConv%      0\n",
       "opp4thDownAtt        0\n",
       "opp4thDownConv%      0\n",
       "oppYards             0\n",
       "oppYardsGivenUp      0\n",
       "oppTurnovers         0\n",
       "oppRushAtt           0\n",
       "oppRushYds           0\n",
       "oppRushTDs           0\n",
       "oppPassAtt           0\n",
       "oppCmp%              0\n",
       "oppPassYds           0\n",
       "oppPassTDs           0\n",
       "oppPassINTs          0\n",
       "oppSacks             0\n",
       "oppAllowedSacks      0\n",
       "oppFumbleRec         0\n",
       "oppPenalties         0\n",
       "win                  0\n",
       "dtype: int64"
      ]
     },
     "execution_count": 11,
     "metadata": {},
     "output_type": "execute_result"
    }
   ],
   "source": [
    "modelData.isnull().sum()"
   ]
  },
  {
   "cell_type": "markdown",
   "id": "2413f4e5",
   "metadata": {},
   "source": [
    "### Encode boolean values and split up predictors (X) and target (y)"
   ]
  },
  {
   "cell_type": "code",
   "execution_count": 12,
   "id": "b2e69e05",
   "metadata": {
    "scrolled": true
   },
   "outputs": [
    {
     "data": {
      "text/html": [
       "<div>\n",
       "<style scoped>\n",
       "    .dataframe tbody tr th:only-of-type {\n",
       "        vertical-align: middle;\n",
       "    }\n",
       "\n",
       "    .dataframe tbody tr th {\n",
       "        vertical-align: top;\n",
       "    }\n",
       "\n",
       "    .dataframe thead th {\n",
       "        text-align: right;\n",
       "    }\n",
       "</style>\n",
       "<table border=\"1\" class=\"dataframe\">\n",
       "  <thead>\n",
       "    <tr style=\"text-align: right;\">\n",
       "      <th></th>\n",
       "      <th>home</th>\n",
       "      <th>wins</th>\n",
       "      <th>losses</th>\n",
       "      <th>points</th>\n",
       "      <th>pointsGivenUp</th>\n",
       "      <th>possessionTime</th>\n",
       "      <th>firstDowns</th>\n",
       "      <th>3rdDownConv%</th>\n",
       "      <th>4thDownAtt</th>\n",
       "      <th>4thDownConv%</th>\n",
       "      <th>...</th>\n",
       "      <th>oppRushTDs</th>\n",
       "      <th>oppPassAtt</th>\n",
       "      <th>oppCmp%</th>\n",
       "      <th>oppPassYds</th>\n",
       "      <th>oppPassTDs</th>\n",
       "      <th>oppPassINTs</th>\n",
       "      <th>oppSacks</th>\n",
       "      <th>oppAllowedSacks</th>\n",
       "      <th>oppFumbleRec</th>\n",
       "      <th>oppPenalties</th>\n",
       "    </tr>\n",
       "  </thead>\n",
       "  <tbody>\n",
       "    <tr>\n",
       "      <th>0</th>\n",
       "      <td>0</td>\n",
       "      <td>0</td>\n",
       "      <td>0.0</td>\n",
       "      <td>30.12</td>\n",
       "      <td>20.71</td>\n",
       "      <td>1794</td>\n",
       "      <td>22.24</td>\n",
       "      <td>43.75</td>\n",
       "      <td>1.29</td>\n",
       "      <td>59.09</td>\n",
       "      <td>...</td>\n",
       "      <td>1.16</td>\n",
       "      <td>43.26</td>\n",
       "      <td>67.12</td>\n",
       "      <td>314.89</td>\n",
       "      <td>2.42</td>\n",
       "      <td>0.68</td>\n",
       "      <td>2.68</td>\n",
       "      <td>1.58</td>\n",
       "      <td>0.89</td>\n",
       "      <td>5.53</td>\n",
       "    </tr>\n",
       "    <tr>\n",
       "      <th>1</th>\n",
       "      <td>1</td>\n",
       "      <td>0</td>\n",
       "      <td>0.0</td>\n",
       "      <td>29.95</td>\n",
       "      <td>20.95</td>\n",
       "      <td>1822</td>\n",
       "      <td>23.53</td>\n",
       "      <td>44.56</td>\n",
       "      <td>1.11</td>\n",
       "      <td>50.00</td>\n",
       "      <td>...</td>\n",
       "      <td>0.94</td>\n",
       "      <td>37.65</td>\n",
       "      <td>68.26</td>\n",
       "      <td>281.65</td>\n",
       "      <td>2.24</td>\n",
       "      <td>0.65</td>\n",
       "      <td>2.29</td>\n",
       "      <td>2.24</td>\n",
       "      <td>0.41</td>\n",
       "      <td>7.59</td>\n",
       "    </tr>\n",
       "    <tr>\n",
       "      <th>2</th>\n",
       "      <td>0</td>\n",
       "      <td>0</td>\n",
       "      <td>0.0</td>\n",
       "      <td>25.56</td>\n",
       "      <td>22.22</td>\n",
       "      <td>1852</td>\n",
       "      <td>21.17</td>\n",
       "      <td>41.44</td>\n",
       "      <td>1.72</td>\n",
       "      <td>67.78</td>\n",
       "      <td>...</td>\n",
       "      <td>1.25</td>\n",
       "      <td>29.38</td>\n",
       "      <td>67.28</td>\n",
       "      <td>207.50</td>\n",
       "      <td>1.38</td>\n",
       "      <td>1.06</td>\n",
       "      <td>3.00</td>\n",
       "      <td>2.38</td>\n",
       "      <td>0.38</td>\n",
       "      <td>5.75</td>\n",
       "    </tr>\n",
       "    <tr>\n",
       "      <th>3</th>\n",
       "      <td>1</td>\n",
       "      <td>0</td>\n",
       "      <td>0.0</td>\n",
       "      <td>18.41</td>\n",
       "      <td>27.00</td>\n",
       "      <td>1690</td>\n",
       "      <td>18.00</td>\n",
       "      <td>36.52</td>\n",
       "      <td>1.41</td>\n",
       "      <td>47.92</td>\n",
       "      <td>...</td>\n",
       "      <td>1.44</td>\n",
       "      <td>29.83</td>\n",
       "      <td>61.78</td>\n",
       "      <td>213.50</td>\n",
       "      <td>1.17</td>\n",
       "      <td>0.67</td>\n",
       "      <td>1.83</td>\n",
       "      <td>1.83</td>\n",
       "      <td>0.22</td>\n",
       "      <td>6.17</td>\n",
       "    </tr>\n",
       "    <tr>\n",
       "      <th>4</th>\n",
       "      <td>1</td>\n",
       "      <td>0</td>\n",
       "      <td>0.0</td>\n",
       "      <td>29.44</td>\n",
       "      <td>17.00</td>\n",
       "      <td>1901</td>\n",
       "      <td>23.72</td>\n",
       "      <td>48.98</td>\n",
       "      <td>1.22</td>\n",
       "      <td>44.64</td>\n",
       "      <td>...</td>\n",
       "      <td>0.60</td>\n",
       "      <td>38.27</td>\n",
       "      <td>63.62</td>\n",
       "      <td>234.47</td>\n",
       "      <td>1.47</td>\n",
       "      <td>0.60</td>\n",
       "      <td>3.07</td>\n",
       "      <td>2.53</td>\n",
       "      <td>0.53</td>\n",
       "      <td>6.13</td>\n",
       "    </tr>\n",
       "  </tbody>\n",
       "</table>\n",
       "<p>5 rows × 49 columns</p>\n",
       "</div>"
      ],
      "text/plain": [
       "   home  wins  losses  points  pointsGivenUp  possessionTime  firstDowns  \\\n",
       "0     0     0     0.0   30.12          20.71            1794       22.24   \n",
       "1     1     0     0.0   29.95          20.95            1822       23.53   \n",
       "2     0     0     0.0   25.56          22.22            1852       21.17   \n",
       "3     1     0     0.0   18.41          27.00            1690       18.00   \n",
       "4     1     0     0.0   29.44          17.00            1901       23.72   \n",
       "\n",
       "   3rdDownConv%  4thDownAtt  4thDownConv%  ...  oppRushTDs  oppPassAtt  \\\n",
       "0         43.75        1.29         59.09  ...        1.16       43.26   \n",
       "1         44.56        1.11         50.00  ...        0.94       37.65   \n",
       "2         41.44        1.72         67.78  ...        1.25       29.38   \n",
       "3         36.52        1.41         47.92  ...        1.44       29.83   \n",
       "4         48.98        1.22         44.64  ...        0.60       38.27   \n",
       "\n",
       "   oppCmp%  oppPassYds  oppPassTDs  oppPassINTs  oppSacks  oppAllowedSacks  \\\n",
       "0    67.12      314.89        2.42         0.68      2.68             1.58   \n",
       "1    68.26      281.65        2.24         0.65      2.29             2.24   \n",
       "2    67.28      207.50        1.38         1.06      3.00             2.38   \n",
       "3    61.78      213.50        1.17         0.67      1.83             1.83   \n",
       "4    63.62      234.47        1.47         0.60      3.07             2.53   \n",
       "\n",
       "   oppFumbleRec  oppPenalties  \n",
       "0          0.89          5.53  \n",
       "1          0.41          7.59  \n",
       "2          0.38          5.75  \n",
       "3          0.22          6.17  \n",
       "4          0.53          6.13  \n",
       "\n",
       "[5 rows x 49 columns]"
      ]
     },
     "execution_count": 12,
     "metadata": {},
     "output_type": "execute_result"
    }
   ],
   "source": [
    "modelData['home'] = modelData['home'].astype(int)\n",
    "X = modelData.drop(columns=['win'])\n",
    "y = modelData['win']\n",
    "X.head()"
   ]
  },
  {
   "cell_type": "code",
   "execution_count": 13,
   "id": "d098bbf9",
   "metadata": {},
   "outputs": [
    {
     "data": {
      "text/plain": [
       "home                   int64\n",
       "wins                   int64\n",
       "losses               float64\n",
       "points               float64\n",
       "pointsGivenUp        float64\n",
       "possessionTime         int64\n",
       "firstDowns           float64\n",
       "3rdDownConv%         float64\n",
       "4thDownAtt           float64\n",
       "4thDownConv%         float64\n",
       "yards                float64\n",
       "yardsGivenUp         float64\n",
       "turnovers            float64\n",
       "rushAtt              float64\n",
       "rushYds              float64\n",
       "rushTDs              float64\n",
       "passAtt              float64\n",
       "cmp%                 float64\n",
       "passYds              float64\n",
       "passTDs              float64\n",
       "passINTs             float64\n",
       "sacks                float64\n",
       "allowedSacks         float64\n",
       "fumbleRec            float64\n",
       "penalties            float64\n",
       "oppWins              float64\n",
       "oppLosses              int64\n",
       "oppPoints            float64\n",
       "oppPointsGivenUp     float64\n",
       "oppPossessionTime      int64\n",
       "oppFirstDowns        float64\n",
       "opp3rdDownConv%      float64\n",
       "opp4thDownAtt        float64\n",
       "opp4thDownConv%      float64\n",
       "oppYards             float64\n",
       "oppYardsGivenUp      float64\n",
       "oppTurnovers         float64\n",
       "oppRushAtt           float64\n",
       "oppRushYds           float64\n",
       "oppRushTDs           float64\n",
       "oppPassAtt           float64\n",
       "oppCmp%              float64\n",
       "oppPassYds           float64\n",
       "oppPassTDs           float64\n",
       "oppPassINTs          float64\n",
       "oppSacks             float64\n",
       "oppAllowedSacks      float64\n",
       "oppFumbleRec         float64\n",
       "oppPenalties         float64\n",
       "win                     bool\n",
       "dtype: object"
      ]
     },
     "execution_count": 13,
     "metadata": {},
     "output_type": "execute_result"
    }
   ],
   "source": [
    "modelData.dtypes"
   ]
  },
  {
   "cell_type": "markdown",
   "id": "26b01507",
   "metadata": {},
   "source": [
    "## Exploratory Data Analysis"
   ]
  },
  {
   "cell_type": "markdown",
   "id": "4a57a94a",
   "metadata": {},
   "source": [
    "### Show correlations of all variables to the target (win)"
   ]
  },
  {
   "cell_type": "code",
   "execution_count": 13,
   "id": "2d001c5f",
   "metadata": {},
   "outputs": [],
   "source": [
    "correlations = []\n",
    "columns = modelData.columns\n",
    "for column in modelData.columns:\n",
    "    correlations.append(modelData[column].corr(modelData['win']))"
   ]
  },
  {
   "cell_type": "code",
   "execution_count": 14,
   "id": "0f2db45d",
   "metadata": {},
   "outputs": [],
   "source": [
    "corrs_dict = {}\n",
    "for column,correlation in zip(columns,correlations):\n",
    "    corrs_dict[column] = correlation"
   ]
  },
  {
   "cell_type": "code",
   "execution_count": 15,
   "id": "143d3119",
   "metadata": {
    "scrolled": true
   },
   "outputs": [
    {
     "data": {
      "text/plain": [
       "{'oppPoints': -0.2948845896585168,\n",
       " 'pointsGivenUp': -0.2627885533322163,\n",
       " 'oppYards': -0.20902977719546753,\n",
       " 'oppPassTDs': -0.20839333163008292,\n",
       " 'turnovers': -0.20837240091776174,\n",
       " 'opp3rdDownConv%': -0.20643697079270776,\n",
       " 'oppFirstDowns': -0.2007062514343387,\n",
       " 'allowedSacks': -0.1946746005260562,\n",
       " 'passINTs': -0.19334685935016133,\n",
       " 'oppPossessionTime': -0.19169780498732958,\n",
       " 'oppRushTDs': -0.17478990650893142,\n",
       " 'oppRushAtt': -0.17142649648791172,\n",
       " 'oppCmp%': -0.1688609875607864,\n",
       " 'yardsGivenUp': -0.14326699642264715,\n",
       " '4thDownAtt': -0.14209026104525074,\n",
       " 'oppSacks': -0.1419015641065073,\n",
       " 'oppRushYds': -0.13714690018927417,\n",
       " 'opp4thDownConv%': -0.12425900589215337,\n",
       " 'losses': -0.11857716349466423,\n",
       " 'oppPassYds': -0.11272231567824517,\n",
       " 'oppFumbleRec': -0.10344760527265708,\n",
       " 'oppWins': -0.10342997986236997,\n",
       " 'penalties': -0.04758752698418717,\n",
       " 'passAtt': -0.03174911838624719,\n",
       " 'oppPassAtt': 0.03109503183789436,\n",
       " 'oppPenalties': 0.04714460412546377,\n",
       " 'fumbleRec': 0.10297169347316365,\n",
       " 'wins': 0.10372202248491744,\n",
       " 'passYds': 0.11212464250813758,\n",
       " 'home': 0.11777584316234853,\n",
       " 'oppLosses': 0.11927994076378126,\n",
       " '4thDownConv%': 0.12451875933911204,\n",
       " 'rushYds': 0.137382854187062,\n",
       " 'sacks': 0.14103590664276905,\n",
       " 'opp4thDownAtt': 0.1430312712589983,\n",
       " 'oppYardsGivenUp': 0.14427360944187514,\n",
       " 'cmp%': 0.1691629827771435,\n",
       " 'rushAtt': 0.1717333139557201,\n",
       " 'rushTDs': 0.17428629281961666,\n",
       " 'possessionTime': 0.19141205327788555,\n",
       " 'oppPassINTs': 0.19311437506376414,\n",
       " 'oppAllowedSacks': 0.19431165043377005,\n",
       " 'firstDowns': 0.2002283480019667,\n",
       " '3rdDownConv%': 0.20636184005758937,\n",
       " 'passTDs': 0.20829668299070084,\n",
       " 'oppTurnovers': 0.2082980667090603,\n",
       " 'yards': 0.2086709094754392,\n",
       " 'oppPointsGivenUp': 0.2633728347717157,\n",
       " 'points': 0.29462571897876,\n",
       " 'win': 1.0}"
      ]
     },
     "execution_count": 15,
     "metadata": {},
     "output_type": "execute_result"
    }
   ],
   "source": [
    "{k: v for k, v in sorted(corrs_dict.items(), key=lambda item: item[1])}\n",
    "#Source: https://stackoverflow.com/questions/613183/how-do-i-sort-a-dictionary-by-value"
   ]
  },
  {
   "cell_type": "markdown",
   "id": "162a2e80",
   "metadata": {},
   "source": [
    "### Plot Correlations"
   ]
  },
  {
   "cell_type": "code",
   "execution_count": 16,
   "id": "5ad0a6da",
   "metadata": {
    "scrolled": true
   },
   "outputs": [
    {
     "data": {
      "text/plain": [
       "<matplotlib.axes._subplots.AxesSubplot at 0x7ff4f8021e20>"
      ]
     },
     "execution_count": 16,
     "metadata": {},
     "output_type": "execute_result"
    },
    {
     "data": {
      "image/png": "[encoded data removed]",
      "text/plain": [
       "<Figure size 432x288 with 1 Axes>"
      ]
     },
     "metadata": {
      "needs_background": "light"
     },
     "output_type": "display_data"
    }
   ],
   "source": [
    "sns.boxplot(x=modelData['win'],y=modelData['points'])"
   ]
  },
  {
   "cell_type": "code",
   "execution_count": 17,
   "id": "18b95647",
   "metadata": {
    "scrolled": true
   },
   "outputs": [
    {
     "data": {
      "text/plain": [
       "<matplotlib.axes._subplots.AxesSubplot at 0x7ff530444250>"
      ]
     },
     "execution_count": 17,
     "metadata": {},
     "output_type": "execute_result"
    },
    {
     "data": {
      "image/png": "[encoded data removed]",
      "text/plain": [
       "<Figure size 432x288 with 1 Axes>"
      ]
     },
     "metadata": {
      "needs_background": "light"
     },
     "output_type": "display_data"
    }
   ],
   "source": [
    "sns.boxplot(x=modelData['win'],y=modelData['pointsGivenUp'])"
   ]
  },
  {
   "cell_type": "code",
   "execution_count": 18,
   "id": "370014dd",
   "metadata": {},
   "outputs": [
    {
     "data": {
      "image/png": "[encoded data removed]",
      "text/plain": [
       "<Figure size 432x288 with 2 Axes>"
      ]
     },
     "metadata": {
      "needs_background": "light"
     },
     "output_type": "display_data"
    }
   ],
   "source": [
    "cm = confusion_matrix(modelData['win'],modelData['home'])\n",
    "ax = plt.subplot()\n",
    "sns.heatmap(cm,annot=True,fmt='g',cmap='Greens',ax=ax)\n",
    "ax.set_xlabel('Away or Home'); ax.set_ylabel('Loss or Win')\n",
    "ax.xaxis.set_ticklabels(['Away','Home']); ax.yaxis.set_ticklabels(['Loss','Win']);"
   ]
  },
  {
   "cell_type": "markdown",
   "id": "3cb1f7ee",
   "metadata": {},
   "source": [
    "### Check distributions"
   ]
  },
  {
   "cell_type": "code",
   "execution_count": 19,
   "id": "a8df06c8",
   "metadata": {
    "scrolled": true
   },
   "outputs": [
    {
     "data": {
      "text/plain": [
       "<seaborn.axisgrid.FacetGrid at 0x7ff55943cf10>"
      ]
     },
     "execution_count": 19,
     "metadata": {},
     "output_type": "execute_result"
    },
    {
     "data": {
      "image/png": "[encoded data removed]",
      "text/plain": [
       "<Figure size 360x360 with 1 Axes>"
      ]
     },
     "metadata": {
      "needs_background": "light"
     },
     "output_type": "display_data"
    }
   ],
   "source": [
    "sns.displot(modelData.oppPassYds,rug=True)"
   ]
  },
  {
   "cell_type": "code",
   "execution_count": 20,
   "id": "180188ba",
   "metadata": {},
   "outputs": [
    {
     "data": {
      "text/plain": [
       "<seaborn.axisgrid.FacetGrid at 0x7ff51a3d9190>"
      ]
     },
     "execution_count": 20,
     "metadata": {},
     "output_type": "execute_result"
    },
    {
     "data": {
      "image/png": "[encoded data removed]",
      "text/plain": [
       "<Figure size 360x360 with 1 Axes>"
      ]
     },
     "metadata": {
      "needs_background": "light"
     },
     "output_type": "display_data"
    }
   ],
   "source": [
    "sns.displot(modelData.firstDowns,rug=True)"
   ]
  },
  {
   "cell_type": "code",
   "execution_count": 21,
   "id": "a4d7925d",
   "metadata": {
    "scrolled": true
   },
   "outputs": [
    {
     "data": {
      "text/plain": [
       "<seaborn.axisgrid.FacetGrid at 0x7ff55972ec10>"
      ]
     },
     "execution_count": 21,
     "metadata": {},
     "output_type": "execute_result"
    },
    {
     "data": {
      "image/png": "[encoded data removed]",
      "text/plain": [
       "<Figure size 360x360 with 1 Axes>"
      ]
     },
     "metadata": {
      "needs_background": "light"
     },
     "output_type": "display_data"
    }
   ],
   "source": [
    "sns.displot(modelData.possessionTime,rug=True)"
   ]
  },
  {
   "cell_type": "markdown",
   "id": "5dbc8c04",
   "metadata": {},
   "source": [
    "## Findings before machine learning analysis\n",
    "#### - Data is normally distributed \n",
    "#### - The amount of points a team averages appears to have the biggest influence on who wins\n",
    "#### - Wins and opponent wins don't have a large correlation to the target variable (surprising to me)"
   ]
  },
  {
   "cell_type": "markdown",
   "id": "e863f386",
   "metadata": {},
   "source": [
    "## Prepare data for machine learning models"
   ]
  },
  {
   "cell_type": "markdown",
   "id": "747c6ed3",
   "metadata": {},
   "source": [
    "### Standardise data"
   ]
  },
  {
   "cell_type": "code",
   "execution_count": 22,
   "id": "69f4869b",
   "metadata": {},
   "outputs": [],
   "source": [
    "# Standardise the data\n",
    "for column in X:\n",
    "    X[column] = scale(X[column])"
   ]
  },
  {
   "cell_type": "code",
   "execution_count": 23,
   "id": "d518c7cb",
   "metadata": {
    "scrolled": true
   },
   "outputs": [
    {
     "data": {
      "text/html": [
       "<div>\n",
       "<style scoped>\n",
       "    .dataframe tbody tr th:only-of-type {\n",
       "        vertical-align: middle;\n",
       "    }\n",
       "\n",
       "    .dataframe tbody tr th {\n",
       "        vertical-align: top;\n",
       "    }\n",
       "\n",
       "    .dataframe thead th {\n",
       "        text-align: right;\n",
       "    }\n",
       "</style>\n",
       "<table border=\"1\" class=\"dataframe\">\n",
       "  <thead>\n",
       "    <tr style=\"text-align: right;\">\n",
       "      <th></th>\n",
       "      <th>home</th>\n",
       "      <th>wins</th>\n",
       "      <th>losses</th>\n",
       "      <th>points</th>\n",
       "      <th>pointsGivenUp</th>\n",
       "      <th>possessionTime</th>\n",
       "      <th>firstDowns</th>\n",
       "      <th>3rdDownConv%</th>\n",
       "      <th>4thDownAtt</th>\n",
       "      <th>4thDownConv%</th>\n",
       "      <th>...</th>\n",
       "      <th>oppRushTDs</th>\n",
       "      <th>oppPassAtt</th>\n",
       "      <th>oppCmp%</th>\n",
       "      <th>oppPassYds</th>\n",
       "      <th>oppPassTDs</th>\n",
       "      <th>oppPassINTs</th>\n",
       "      <th>oppSacks</th>\n",
       "      <th>oppAllowedSacks</th>\n",
       "      <th>oppFumbleRec</th>\n",
       "      <th>oppPenalties</th>\n",
       "    </tr>\n",
       "  </thead>\n",
       "  <tbody>\n",
       "    <tr>\n",
       "      <th>0</th>\n",
       "      <td>-1.0</td>\n",
       "      <td>-1.229137</td>\n",
       "      <td>-1.30115</td>\n",
       "      <td>1.665823</td>\n",
       "      <td>-0.632309</td>\n",
       "      <td>-0.125469</td>\n",
       "      <td>0.961645</td>\n",
       "      <td>0.993587</td>\n",
       "      <td>0.590884</td>\n",
       "      <td>0.583349</td>\n",
       "      <td>...</td>\n",
       "      <td>1.048422</td>\n",
       "      <td>2.301613</td>\n",
       "      <td>0.933044</td>\n",
       "      <td>1.921937</td>\n",
       "      <td>1.811019</td>\n",
       "      <td>-0.549094</td>\n",
       "      <td>0.674247</td>\n",
       "      <td>-1.182517</td>\n",
       "      <td>1.748873</td>\n",
       "      <td>-0.910929</td>\n",
       "    </tr>\n",
       "    <tr>\n",
       "      <th>1</th>\n",
       "      <td>1.0</td>\n",
       "      <td>-1.229137</td>\n",
       "      <td>-1.30115</td>\n",
       "      <td>1.626675</td>\n",
       "      <td>-0.562430</td>\n",
       "      <td>0.194792</td>\n",
       "      <td>1.554446</td>\n",
       "      <td>1.163798</td>\n",
       "      <td>0.107347</td>\n",
       "      <td>0.000325</td>\n",
       "      <td>...</td>\n",
       "      <td>0.330319</td>\n",
       "      <td>0.759338</td>\n",
       "      <td>1.224410</td>\n",
       "      <td>0.924540</td>\n",
       "      <td>1.425967</td>\n",
       "      <td>-0.650918</td>\n",
       "      <td>-0.116656</td>\n",
       "      <td>-0.164136</td>\n",
       "      <td>-0.766707</td>\n",
       "      <td>1.283431</td>\n",
       "    </tr>\n",
       "    <tr>\n",
       "      <th>2</th>\n",
       "      <td>-1.0</td>\n",
       "      <td>-1.229137</td>\n",
       "      <td>-1.30115</td>\n",
       "      <td>0.615726</td>\n",
       "      <td>-0.192649</td>\n",
       "      <td>0.537930</td>\n",
       "      <td>0.469942</td>\n",
       "      <td>0.508173</td>\n",
       "      <td>1.746002</td>\n",
       "      <td>1.140717</td>\n",
       "      <td>...</td>\n",
       "      <td>1.342191</td>\n",
       "      <td>-1.514212</td>\n",
       "      <td>0.973938</td>\n",
       "      <td>-1.300398</td>\n",
       "      <td>-0.413726</td>\n",
       "      <td>0.740675</td>\n",
       "      <td>1.323194</td>\n",
       "      <td>0.051884</td>\n",
       "      <td>-0.923930</td>\n",
       "      <td>-0.676580</td>\n",
       "    </tr>\n",
       "    <tr>\n",
       "      <th>3</th>\n",
       "      <td>1.0</td>\n",
       "      <td>-1.229137</td>\n",
       "      <td>-1.30115</td>\n",
       "      <td>-1.030809</td>\n",
       "      <td>1.199124</td>\n",
       "      <td>-1.315011</td>\n",
       "      <td>-0.986785</td>\n",
       "      <td>-0.525697</td>\n",
       "      <td>0.913243</td>\n",
       "      <td>-0.133084</td>\n",
       "      <td>...</td>\n",
       "      <td>1.962371</td>\n",
       "      <td>-1.390500</td>\n",
       "      <td>-0.431777</td>\n",
       "      <td>-1.120363</td>\n",
       "      <td>-0.862953</td>\n",
       "      <td>-0.583035</td>\n",
       "      <td>-1.049517</td>\n",
       "      <td>-0.796767</td>\n",
       "      <td>-1.762457</td>\n",
       "      <td>-0.229186</td>\n",
       "    </tr>\n",
       "    <tr>\n",
       "      <th>4</th>\n",
       "      <td>1.0</td>\n",
       "      <td>-1.229137</td>\n",
       "      <td>-1.30115</td>\n",
       "      <td>1.509230</td>\n",
       "      <td>-1.712535</td>\n",
       "      <td>1.098387</td>\n",
       "      <td>1.641758</td>\n",
       "      <td>2.092599</td>\n",
       "      <td>0.402842</td>\n",
       "      <td>-0.343460</td>\n",
       "      <td>...</td>\n",
       "      <td>-0.779476</td>\n",
       "      <td>0.929785</td>\n",
       "      <td>0.038498</td>\n",
       "      <td>-0.491139</td>\n",
       "      <td>-0.221200</td>\n",
       "      <td>-0.820624</td>\n",
       "      <td>1.465151</td>\n",
       "      <td>0.283334</td>\n",
       "      <td>-0.137812</td>\n",
       "      <td>-0.271795</td>\n",
       "    </tr>\n",
       "  </tbody>\n",
       "</table>\n",
       "<p>5 rows × 49 columns</p>\n",
       "</div>"
      ],
      "text/plain": [
       "   home      wins   losses    points  pointsGivenUp  possessionTime  \\\n",
       "0  -1.0 -1.229137 -1.30115  1.665823      -0.632309       -0.125469   \n",
       "1   1.0 -1.229137 -1.30115  1.626675      -0.562430        0.194792   \n",
       "2  -1.0 -1.229137 -1.30115  0.615726      -0.192649        0.537930   \n",
       "3   1.0 -1.229137 -1.30115 -1.030809       1.199124       -1.315011   \n",
       "4   1.0 -1.229137 -1.30115  1.509230      -1.712535        1.098387   \n",
       "\n",
       "   firstDowns  3rdDownConv%  4thDownAtt  4thDownConv%  ...  oppRushTDs  \\\n",
       "0    0.961645      0.993587    0.590884      0.583349  ...    1.048422   \n",
       "1    1.554446      1.163798    0.107347      0.000325  ...    0.330319   \n",
       "2    0.469942      0.508173    1.746002      1.140717  ...    1.342191   \n",
       "3   -0.986785     -0.525697    0.913243     -0.133084  ...    1.962371   \n",
       "4    1.641758      2.092599    0.402842     -0.343460  ...   -0.779476   \n",
       "\n",
       "   oppPassAtt   oppCmp%  oppPassYds  oppPassTDs  oppPassINTs  oppSacks  \\\n",
       "0    2.301613  0.933044    1.921937    1.811019    -0.549094  0.674247   \n",
       "1    0.759338  1.224410    0.924540    1.425967    -0.650918 -0.116656   \n",
       "2   -1.514212  0.973938   -1.300398   -0.413726     0.740675  1.323194   \n",
       "3   -1.390500 -0.431777   -1.120363   -0.862953    -0.583035 -1.049517   \n",
       "4    0.929785  0.038498   -0.491139   -0.221200    -0.820624  1.465151   \n",
       "\n",
       "   oppAllowedSacks  oppFumbleRec  oppPenalties  \n",
       "0        -1.182517      1.748873     -0.910929  \n",
       "1        -0.164136     -0.766707      1.283431  \n",
       "2         0.051884     -0.923930     -0.676580  \n",
       "3        -0.796767     -1.762457     -0.229186  \n",
       "4         0.283334     -0.137812     -0.271795  \n",
       "\n",
       "[5 rows x 49 columns]"
      ]
     },
     "execution_count": 23,
     "metadata": {},
     "output_type": "execute_result"
    }
   ],
   "source": [
    "X.head()"
   ]
  },
  {
   "cell_type": "markdown",
   "id": "7006609e",
   "metadata": {},
   "source": [
    "### Clean standardized dataset in Alteryx for GUI (Special add on to the project, see other notebook)"
   ]
  },
  {
   "cell_type": "code",
   "execution_count": 24,
   "id": "6a6d2fd1",
   "metadata": {},
   "outputs": [],
   "source": [
    "standardizedData = X.to_csv(r'standardizedData.csv')"
   ]
  },
  {
   "cell_type": "markdown",
   "id": "69ae499a",
   "metadata": {},
   "source": [
    "### Split data into training and testing sets"
   ]
  },
  {
   "cell_type": "code",
   "execution_count": 25,
   "id": "48a52399",
   "metadata": {},
   "outputs": [],
   "source": [
    "# Split data into training and testing sets\n",
    "X_train, X_test, y_train, y_test = train_test_split(X, y, random_state=42)"
   ]
  },
  {
   "cell_type": "markdown",
   "id": "14aaa6a6",
   "metadata": {},
   "source": [
    "### Create and train models"
   ]
  },
  {
   "cell_type": "code",
   "execution_count": 26,
   "id": "51d3fbe4",
   "metadata": {},
   "outputs": [],
   "source": [
    "lm = LogisticRegression(solver='lbfgs',max_iter=3750,random_state = 42).fit(X_train,y_train)\n",
    "svc = SVC(random_state = 42).fit(X_train,y_train)\n",
    "rf = RandomForestClassifier(random_state = 42).fit(X_train,y_train)"
   ]
  },
  {
   "cell_type": "markdown",
   "id": "591547df",
   "metadata": {},
   "source": [
    "### Test results \n",
    "#### Logistic regression was the most accurate model"
   ]
  },
  {
   "cell_type": "code",
   "execution_count": 27,
   "id": "975328c7",
   "metadata": {},
   "outputs": [],
   "source": [
    "# Test the models\n",
    "lm_pred = lm.predict(X_test)\n",
    "svc_pred = svc.predict(X_test)\n",
    "rf_pred = rf.predict(X_test)"
   ]
  },
  {
   "cell_type": "code",
   "execution_count": 28,
   "id": "aa885114",
   "metadata": {},
   "outputs": [],
   "source": [
    "# Create Confusion Matrix\n",
    "lmCF = confusion_matrix(y_test,lm_pred)\n",
    "svcCF = confusion_matrix(y_test,svc_pred)\n",
    "rfCF = confusion_matrix(y_test,rf_pred)"
   ]
  },
  {
   "cell_type": "code",
   "execution_count": 29,
   "id": "d75e82d7",
   "metadata": {},
   "outputs": [],
   "source": [
    "# Calculate accuracy of the model's predictions\n",
    "lm_accuracy = round((accuracy_score(y_test,lm_pred)) * 100,2)\n",
    "svc_accuracy = round((accuracy_score(y_test,svc_pred)) * 100,2)\n",
    "rf_accuracy = round((accuracy_score(y_test,rf_pred)) * 100,2)"
   ]
  },
  {
   "cell_type": "code",
   "execution_count": 30,
   "id": "f611489b",
   "metadata": {},
   "outputs": [
    {
     "name": "stdout",
     "output_type": "stream",
     "text": [
      "Logistic Regression Results: 68.13%\n",
      "[[386 169]\n",
      " [195 392]]\n"
     ]
    }
   ],
   "source": [
    "# Logistic Regression Results\n",
    "print(f'Logistic Regression Results: {lm_accuracy}%')\n",
    "print(lmCF)"
   ]
  },
  {
   "cell_type": "code",
   "execution_count": 31,
   "id": "16ce71c1",
   "metadata": {},
   "outputs": [
    {
     "name": "stdout",
     "output_type": "stream",
     "text": [
      "Support Vector Machine Results: 66.9%\n",
      "[[378 177]\n",
      " [201 386]]\n"
     ]
    }
   ],
   "source": [
    "# Support Vector Machine Results\n",
    "print(f'Support Vector Machine Results: {svc_accuracy}%')\n",
    "print(svcCF)"
   ]
  },
  {
   "cell_type": "code",
   "execution_count": 32,
   "id": "eba2414f",
   "metadata": {},
   "outputs": [
    {
     "name": "stdout",
     "output_type": "stream",
     "text": [
      "Random Forest Results: 64.97%\n",
      "[[371 184]\n",
      " [216 371]]\n"
     ]
    }
   ],
   "source": [
    "# Random Forest Results\n",
    "print(f'Random Forest Results: {rf_accuracy}%')\n",
    "print(rfCF)"
   ]
  },
  {
   "cell_type": "markdown",
   "id": "1e01e508",
   "metadata": {},
   "source": [
    "## Analyze the model's results"
   ]
  },
  {
   "cell_type": "markdown",
   "id": "1707fb64",
   "metadata": {},
   "source": [
    "### Plot Logistic Regression Model's ROC Curve"
   ]
  },
  {
   "cell_type": "code",
   "execution_count": 33,
   "id": "16696f7c",
   "metadata": {},
   "outputs": [],
   "source": [
    "# Define metrics\n",
    "lmpred_proba = lm.predict_proba(X_test)[::,1]\n",
    "fpr,tpr,_ = metrics.roc_curve(y_test,lmpred_proba)\n",
    "auc = metrics.roc_auc_score(y_test,lmpred_proba)"
   ]
  },
  {
   "cell_type": "code",
   "execution_count": 34,
   "id": "e34a22ea",
   "metadata": {},
   "outputs": [
    {
     "data": {
      "image/png": "[encoded data removed]",
      "text/plain": [
       "<Figure size 432x288 with 1 Axes>"
      ]
     },
     "metadata": {
      "needs_background": "light"
     },
     "output_type": "display_data"
    }
   ],
   "source": [
    "# Plot ROC curve\n",
    "plt.plot(fpr,tpr,label='AUC='+str(auc))\n",
    "plt.ylabel('True Positive Rate')\n",
    "plt.xlabel('False Positive Rate')\n",
    "plt.legend(loc=4)\n",
    "plt.show()"
   ]
  },
  {
   "cell_type": "markdown",
   "id": "5a312a53",
   "metadata": {},
   "source": [
    "### Determine most impactful predictors and their coefficients"
   ]
  },
  {
   "cell_type": "code",
   "execution_count": 35,
   "id": "9557602c",
   "metadata": {},
   "outputs": [],
   "source": [
    "# Create the list of coefficients\n",
    "coefficients = {}\n",
    "coefs = lm.coef_[0]\n",
    "cols = X.columns"
   ]
  },
  {
   "cell_type": "code",
   "execution_count": 36,
   "id": "07f3026f",
   "metadata": {},
   "outputs": [],
   "source": [
    "for col,coef in zip(cols,coefs):\n",
    "    coefficients[col] = coef"
   ]
  },
  {
   "cell_type": "code",
   "execution_count": 37,
   "id": "28a04c81",
   "metadata": {},
   "outputs": [],
   "source": [
    "# Plot the coefficients sorted from most impactful to least impactful\n",
    "keys = sorted(coefficients, key=lambda k: abs(coefficients[k]), reverse=True)\n",
    "values = []\n",
    "for coef in coefs:\n",
    "    values.append(coef)\n",
    "values = sorted(values, key=abs, reverse = True)"
   ]
  },
  {
   "cell_type": "markdown",
   "id": "349bca7e",
   "metadata": {},
   "source": [
    "### Graph coefficients"
   ]
  },
  {
   "cell_type": "code",
   "execution_count": 38,
   "id": "b9d4535a",
   "metadata": {
    "scrolled": true
   },
   "outputs": [
    {
     "data": {
      "image/png": "[encoded data removed]",
      "text/plain": [
       "<Figure size 432x288 with 1 Axes>"
      ]
     },
     "metadata": {
      "needs_background": "light"
     },
     "output_type": "display_data"
    }
   ],
   "source": [
    "plt.bar(x=keys,height=values,color='#087E8B')\n",
    "plt.title('Feature Importance with Coefficients')\n",
    "plt.xticks(rotation='vertical')\n",
    "plt.show()"
   ]
  },
  {
   "cell_type": "markdown",
   "id": "ee3be5a8",
   "metadata": {},
   "source": [
    "### Go back up and remove least impactful variables\n",
    "<a id='Remove least important variables based off coefficient calculations'></a>[Click Here](#here)"
   ]
  },
  {
   "cell_type": "markdown",
   "id": "72d271b3",
   "metadata": {},
   "source": [
    "## Save model for GUI predictions"
   ]
  },
  {
   "cell_type": "code",
   "execution_count": 39,
   "id": "a4e2fb39",
   "metadata": {},
   "outputs": [],
   "source": [
    "lmModel = pickle.dump(lm,open('lmModel.sav','wb'))\n",
    "svcModel = pickle.dump(svc,open('svcModel.sav','wb'))\n",
    "rfModel = pickle.dump(rf,open('rfModel.sav','wb'))"
   ]
  },
  {
   "cell_type": "markdown",
   "id": "ad804381",
   "metadata": {},
   "source": [
    "## Overall Findings\n",
    "#### - Logistic Regression findings\n",
    "####      - Wins and opponent wins are the most important in determining which team wins or not\n",
    "####      - Model does pretty well in predicting the outcome of an NFL football game (68%)\n",
    "####      - Correlations don't seem to be the best insight into discovering the most influential predictors"
   ]
  }
 ],
 "metadata": {
  "kernelspec": {
   "display_name": "Python 3",
   "language": "python",
   "name": "python3"
  },
  "language_info": {
   "codemirror_mode": {
    "name": "ipython",
    "version": 3
   },
   "file_extension": ".py",
   "mimetype": "text/x-python",
   "name": "python",
   "nbconvert_exporter": "python",
   "pygments_lexer": "ipython3",
   "version": "3.8.8"
  }
 },
 "nbformat": 4,
 "nbformat_minor": 5
}
